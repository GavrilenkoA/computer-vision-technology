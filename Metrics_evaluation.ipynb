{
 "cells": [
  {
   "cell_type": "code",
   "execution_count": 1,
   "id": "4d3a640c",
   "metadata": {
    "ExecuteTime": {
     "end_time": "2024-04-03T15:04:38.587103Z",
     "start_time": "2024-04-03T15:04:38.195168Z"
    }
   },
   "outputs": [],
   "source": [
    "import pickle\n",
    "import numpy as np\n",
    "import pandas as pd\n",
    "import os"
   ]
  },
  {
   "cell_type": "code",
   "execution_count": 4,
   "id": "32f71e6f",
   "metadata": {
    "ExecuteTime": {
     "end_time": "2024-04-03T15:05:08.322132Z",
     "start_time": "2024-04-03T15:05:08.318133Z"
    }
   },
   "outputs": [],
   "source": [
    "with open('./metrics_dicts/soft/track_12_soft_ids.pkl', 'rb') as f:\n",
    "    metrics_dict = pickle.load(f)"
   ]
  },
  {
   "cell_type": "code",
   "execution_count": 5,
   "id": "da581f16",
   "metadata": {
    "ExecuteTime": {
     "end_time": "2024-04-03T15:05:11.816362Z",
     "start_time": "2024-04-03T15:05:11.812064Z"
    }
   },
   "outputs": [],
   "source": [
    "def get_avg_jumps(ids_dict):\n",
    "    \n",
    "    jump_ratios = []\n",
    "    \n",
    "    for key in ids_dict.keys():\n",
    "        track = np.array(ids_dict[key]).astype(int)\n",
    "        if len(track) == 0:\n",
    "            jump_ratios.append(0)\n",
    "            continue\n",
    "        \n",
    "        changes = np.diff(track)\n",
    "        num_jumps = len(changes[changes!=0])\n",
    "        jump_ratio = num_jumps/len(track)\n",
    "        jump_ratios.append(jump_ratio)\n",
    "    return sum(jump_ratios)/len(jump_ratios)"
   ]
  },
  {
   "cell_type": "code",
   "execution_count": 6,
   "id": "87e8fa0d",
   "metadata": {
    "ExecuteTime": {
     "end_time": "2024-04-03T15:05:12.312930Z",
     "start_time": "2024-04-03T15:05:12.307930Z"
    }
   },
   "outputs": [],
   "source": [
    "def get_metrics_dataset(path_to_folder):\n",
    "    names_of_files = os.listdir(path_to_folder)\n",
    "    names_of_files.sort()\n",
    "    dict_of_metrics = {}\n",
    "    for name_of_file in names_of_files:\n",
    "        path_to_file = path_to_folder + '/' + name_of_file\n",
    "        with open(path_to_file, 'rb') as f:\n",
    "            track_ids_dict = pickle.load(f)\n",
    "        dict_of_metrics[name_of_file] = [get_avg_jumps(track_ids_dict)]\n",
    "    return pd.DataFrame(dict_of_metrics).T"
   ]
  },
  {
   "cell_type": "code",
   "execution_count": 7,
   "id": "9c6a9fe2",
   "metadata": {
    "ExecuteTime": {
     "end_time": "2024-04-03T15:05:13.340691Z",
     "start_time": "2024-04-03T15:05:13.333938Z"
    }
   },
   "outputs": [
    {
     "data": {
      "text/plain": "0.5216567242565269"
     },
     "execution_count": 7,
     "metadata": {},
     "output_type": "execute_result"
    }
   ],
   "source": [
    "get_avg_jumps(metrics_dict)"
   ]
  },
  {
   "cell_type": "code",
   "execution_count": 8,
   "id": "4f19e21c",
   "metadata": {
    "ExecuteTime": {
     "end_time": "2024-04-03T15:05:18.588676Z",
     "start_time": "2024-04-03T15:05:18.576273Z"
    }
   },
   "outputs": [
    {
     "data": {
      "text/plain": "                               0\ntrack_10_soft_ids.pkl   0.332458\ntrack_11_soft_ids.pkl   0.402863\ntrack_12_soft_ids.pkl   0.521657\ntrack_1_soft_ids.pkl    0.013853\ntrack_2_soft_ids.pkl    0.017848\ntrack_3_soft_ids.pkl    0.090497\ntrack_4_soft_ids.pkl    0.012917\ntrack_5_soft_ids.pkl    0.037281\ntrack_6_soft_ids.pkl    0.102181\ntrack_6_strong_ids.pkl  0.275000\ntrack_7_soft_ids.pkl    0.254491\ntrack_8_soft_ids.pkl    0.615082\ntrack_9_soft_ids.pkl    0.749915",
      "text/html": "<div>\n<style scoped>\n    .dataframe tbody tr th:only-of-type {\n        vertical-align: middle;\n    }\n\n    .dataframe tbody tr th {\n        vertical-align: top;\n    }\n\n    .dataframe thead th {\n        text-align: right;\n    }\n</style>\n<table border=\"1\" class=\"dataframe\">\n  <thead>\n    <tr style=\"text-align: right;\">\n      <th></th>\n      <th>0</th>\n    </tr>\n  </thead>\n  <tbody>\n    <tr>\n      <th>track_10_soft_ids.pkl</th>\n      <td>0.332458</td>\n    </tr>\n    <tr>\n      <th>track_11_soft_ids.pkl</th>\n      <td>0.402863</td>\n    </tr>\n    <tr>\n      <th>track_12_soft_ids.pkl</th>\n      <td>0.521657</td>\n    </tr>\n    <tr>\n      <th>track_1_soft_ids.pkl</th>\n      <td>0.013853</td>\n    </tr>\n    <tr>\n      <th>track_2_soft_ids.pkl</th>\n      <td>0.017848</td>\n    </tr>\n    <tr>\n      <th>track_3_soft_ids.pkl</th>\n      <td>0.090497</td>\n    </tr>\n    <tr>\n      <th>track_4_soft_ids.pkl</th>\n      <td>0.012917</td>\n    </tr>\n    <tr>\n      <th>track_5_soft_ids.pkl</th>\n      <td>0.037281</td>\n    </tr>\n    <tr>\n      <th>track_6_soft_ids.pkl</th>\n      <td>0.102181</td>\n    </tr>\n    <tr>\n      <th>track_6_strong_ids.pkl</th>\n      <td>0.275000</td>\n    </tr>\n    <tr>\n      <th>track_7_soft_ids.pkl</th>\n      <td>0.254491</td>\n    </tr>\n    <tr>\n      <th>track_8_soft_ids.pkl</th>\n      <td>0.615082</td>\n    </tr>\n    <tr>\n      <th>track_9_soft_ids.pkl</th>\n      <td>0.749915</td>\n    </tr>\n  </tbody>\n</table>\n</div>"
     },
     "execution_count": 8,
     "metadata": {},
     "output_type": "execute_result"
    }
   ],
   "source": [
    "get_metrics_dataset('./metrics_dicts/soft')"
   ]
  },
  {
   "cell_type": "code",
   "execution_count": 9,
   "id": "def2ed30",
   "metadata": {
    "ExecuteTime": {
     "end_time": "2024-04-03T15:05:19.169184Z",
     "start_time": "2024-04-03T15:05:19.160147Z"
    }
   },
   "outputs": [
    {
     "data": {
      "text/plain": "                                0\ntrack_11_strong_ids.pkl  0.144703\ntrack_12_strong_ids.pkl  0.276661\ntrack_1_strong_ids.pkl   0.161905",
      "text/html": "<div>\n<style scoped>\n    .dataframe tbody tr th:only-of-type {\n        vertical-align: middle;\n    }\n\n    .dataframe tbody tr th {\n        vertical-align: top;\n    }\n\n    .dataframe thead th {\n        text-align: right;\n    }\n</style>\n<table border=\"1\" class=\"dataframe\">\n  <thead>\n    <tr style=\"text-align: right;\">\n      <th></th>\n      <th>0</th>\n    </tr>\n  </thead>\n  <tbody>\n    <tr>\n      <th>track_11_strong_ids.pkl</th>\n      <td>0.144703</td>\n    </tr>\n    <tr>\n      <th>track_12_strong_ids.pkl</th>\n      <td>0.276661</td>\n    </tr>\n    <tr>\n      <th>track_1_strong_ids.pkl</th>\n      <td>0.161905</td>\n    </tr>\n  </tbody>\n</table>\n</div>"
     },
     "execution_count": 9,
     "metadata": {},
     "output_type": "execute_result"
    }
   ],
   "source": [
    "get_metrics_dataset('./metrics_dicts/strong')"
   ]
  },
  {
   "cell_type": "code",
   "execution_count": 11,
   "id": "bbc70cf7",
   "metadata": {
    "ExecuteTime": {
     "end_time": "2024-04-03T16:02:44.955893Z",
     "start_time": "2024-04-03T16:02:44.952478Z"
    }
   },
   "outputs": [],
   "source": [
    "with open('./metrics_dicts/strong/track_1_strong_ids.pkl', 'rb') as f:\n",
    "    metrics_dict = pickle.load(f)"
   ]
  },
  {
   "cell_type": "code",
   "execution_count": 12,
   "id": "3de41ff7",
   "metadata": {
    "ExecuteTime": {
     "end_time": "2024-04-03T16:02:49.259989Z",
     "start_time": "2024-04-03T16:02:49.254986Z"
    }
   },
   "outputs": [
    {
     "data": {
      "text/plain": "{0: ['1',\n  '6',\n  '10',\n  '12',\n  '14',\n  '16',\n  '17',\n  '17',\n  '17',\n  '17',\n  '17',\n  '17',\n  '17',\n  '17',\n  '17',\n  '17',\n  '17',\n  '17',\n  '17',\n  '17',\n  '17'],\n 1: ['2',\n  '2',\n  '2',\n  '2',\n  '2',\n  '2',\n  '2',\n  '2',\n  '2',\n  '2',\n  '2',\n  '2',\n  '2',\n  '2',\n  '2',\n  '2',\n  '2',\n  '2',\n  '2',\n  '2',\n  '2'],\n 2: ['3',\n  '7',\n  '7',\n  '7',\n  '7',\n  '7',\n  '7',\n  '7',\n  '7',\n  '7',\n  '7',\n  '7',\n  '7',\n  '7',\n  '7',\n  '7',\n  '7',\n  '7',\n  '7',\n  '7',\n  '7'],\n 3: ['4',\n  '8',\n  '6',\n  '6',\n  '6',\n  '6',\n  '6',\n  '6',\n  '6',\n  '6',\n  '6',\n  '6',\n  '6',\n  '6',\n  '6',\n  '6',\n  '6',\n  '6',\n  '6',\n  '6',\n  '6'],\n 4: ['5',\n  '9',\n  '11',\n  '13',\n  '15',\n  '15',\n  '15',\n  '15',\n  '15',\n  '15',\n  '15',\n  '15',\n  '15',\n  '15',\n  '15',\n  '15',\n  '15',\n  '18',\n  '19',\n  '20',\n  '21']}"
     },
     "execution_count": 12,
     "metadata": {},
     "output_type": "execute_result"
    }
   ],
   "source": [
    "metrics_dict"
   ]
  },
  {
   "cell_type": "code",
   "execution_count": null,
   "id": "6e5b964f",
   "metadata": {},
   "outputs": [],
   "source": []
  }
 ],
 "metadata": {
  "kernelspec": {
   "display_name": "Python 3 (ipykernel)",
   "language": "python",
   "name": "python3"
  },
  "language_info": {
   "codemirror_mode": {
    "name": "ipython",
    "version": 3
   },
   "file_extension": ".py",
   "mimetype": "text/x-python",
   "name": "python",
   "nbconvert_exporter": "python",
   "pygments_lexer": "ipython3",
   "version": "3.11.5"
  }
 },
 "nbformat": 4,
 "nbformat_minor": 5
}

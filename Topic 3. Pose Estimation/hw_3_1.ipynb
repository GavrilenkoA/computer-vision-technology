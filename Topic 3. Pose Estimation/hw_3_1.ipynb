{
 "cells": [
  {
   "cell_type": "code",
   "execution_count": 1,
   "id": "bbe88f5b",
   "metadata": {
    "ExecuteTime": {
     "end_time": "2024-04-28T10:16:17.455086Z",
     "start_time": "2024-04-28T10:16:04.872047Z"
    },
    "execution": {
     "iopub.execute_input": "2024-04-30T13:42:19.771480Z",
     "iopub.status.busy": "2024-04-30T13:42:19.770738Z",
     "iopub.status.idle": "2024-04-30T13:42:26.939541Z",
     "shell.execute_reply": "2024-04-30T13:42:26.938588Z"
    },
    "id": "J1mw6PFJ_5w3",
    "papermill": {
     "duration": 7.177255,
     "end_time": "2024-04-30T13:42:26.941531",
     "exception": false,
     "start_time": "2024-04-30T13:42:19.764276",
     "status": "completed"
    },
    "tags": []
   },
   "outputs": [
    {
     "data": {
      "text/plain": [
       "<torch._C.Generator at 0x7fdfa7a722f0>"
      ]
     },
     "execution_count": 1,
     "metadata": {},
     "output_type": "execute_result"
    }
   ],
   "source": [
    "import pandas as pd\n",
    "from tqdm import tqdm\n",
    "import os\n",
    "from torch.utils.data import Dataset, DataLoader\n",
    "import cv2\n",
    "\n",
    "import torch\n",
    "from torchvision import  models\n",
    "\n",
    "seed = 42\n",
    "torch.manual_seed(seed)"
   ]
  },
  {
   "cell_type": "code",
   "execution_count": 2,
   "id": "2a0a5c06",
   "metadata": {
    "ExecuteTime": {
     "end_time": "2024-04-28T10:17:18.644773Z",
     "start_time": "2024-04-28T10:17:18.639346Z"
    },
    "execution": {
     "iopub.execute_input": "2024-04-30T13:42:26.953337Z",
     "iopub.status.busy": "2024-04-30T13:42:26.952799Z",
     "iopub.status.idle": "2024-04-30T13:42:26.957734Z",
     "shell.execute_reply": "2024-04-30T13:42:26.956915Z"
    },
    "id": "ws_AhwqiFx7X",
    "papermill": {
     "duration": 0.012767,
     "end_time": "2024-04-30T13:42:26.959681",
     "exception": false,
     "start_time": "2024-04-30T13:42:26.946914",
     "status": "completed"
    },
    "tags": []
   },
   "outputs": [],
   "source": [
    "labels = ['belly dancing', 'breakdancing', 'country line dancing',\n",
    "       'dancing ballet', 'dancing charleston', 'dancing gangnam style',\n",
    "       'dancing macarena', 'jumpstyle dancing', 'mosh pit dancing',\n",
    "       'robot dancing', 'salsa dancing', 'square dancing',\n",
    "       'swing dancing', 'tango dancing', 'tap dancing']\n",
    "label_mapping = {x : idx for idx, x in enumerate(labels)}\n"
   ]
  },
  {
   "cell_type": "code",
   "execution_count": 4,
   "id": "dc171702",
   "metadata": {
    "ExecuteTime": {
     "end_time": "2024-04-28T10:20:29.988454Z",
     "start_time": "2024-04-28T10:20:29.976927Z"
    },
    "execution": {
     "iopub.execute_input": "2024-04-30T13:42:26.987479Z",
     "iopub.status.busy": "2024-04-30T13:42:26.986922Z",
     "iopub.status.idle": "2024-04-30T13:42:26.993735Z",
     "shell.execute_reply": "2024-04-30T13:42:26.992944Z"
    },
    "id": "Rqi1wK2wDnp7",
    "papermill": {
     "duration": 0.014229,
     "end_time": "2024-04-30T13:42:26.995523",
     "exception": false,
     "start_time": "2024-04-30T13:42:26.981294",
     "status": "completed"
    },
    "tags": []
   },
   "outputs": [],
   "source": [
    "class VideoDataset(Dataset):\n",
    "    def __init__(self, csv_file, root_dir, transform=None):\n",
    "        \"\"\"\n",
    "        Args:\n",
    "            csv_file (string): Path to the csv file with annotations.\n",
    "            root_dir (string): Directory with all the videos.\n",
    "            transform (callable, optional): Optional transform to be applied on a sample.\n",
    "        \"\"\"\n",
    "        self.annotations = pd.read_csv(csv_file, index_col=False)\n",
    "        self.annotations = self.annotations.sample(len(self.annotations) // 4) # уменьшаю датасет в 4 раза, а то долго\n",
    "        self.root_dir = root_dir\n",
    "        self.transform = transform\n",
    "\n",
    "    def __len__(self):\n",
    "        return len(self.annotations)\n",
    "\n",
    "    def __getitem__(self, idx):\n",
    "        video_path = os.path.join(self.root_dir, self.annotations.iloc[idx, 0])\n",
    "        class_label = self.annotations.iloc[idx, 1]\n",
    "        return video_path, class_label #frames, class_label\n",
    "\n"
   ]
  },
  {
   "cell_type": "code",
   "execution_count": 5,
   "id": "81a2fd22",
   "metadata": {
    "ExecuteTime": {
     "end_time": "2024-04-28T10:24:21.039902Z",
     "start_time": "2024-04-28T10:24:21.004629Z"
    },
    "execution": {
     "iopub.execute_input": "2024-04-30T13:42:27.006475Z",
     "iopub.status.busy": "2024-04-30T13:42:27.006218Z",
     "iopub.status.idle": "2024-04-30T13:42:27.056971Z",
     "shell.execute_reply": "2024-04-30T13:42:27.056149Z"
    },
    "id": "321jv7snDnnY",
    "papermill": {
     "duration": 0.058521,
     "end_time": "2024-04-30T13:42:27.059044",
     "exception": false,
     "start_time": "2024-04-30T13:42:27.000523",
     "status": "completed"
    },
    "tags": []
   },
   "outputs": [],
   "source": [
    "from torchvision import transforms\n",
    "\n",
    "transform = transforms.Compose([\n",
    "    transforms.ToPILImage(),\n",
    "    transforms.Resize((224, 224)),\n",
    "    transforms.ToTensor(),\n",
    "    transforms.Normalize(mean=[0.485, 0.456, 0.406], std=[0.229, 0.224, 0.225]),\n",
    "])\n",
    "\n",
    "train_dataset = VideoDataset(csv_file='/kaggle/input/dance-videos/train_annotations.csv', root_dir='/kaggle/input/dance-videos/videos', transform=transform)\n",
    "test_dataset = VideoDataset(csv_file='/kaggle/input/dance-videos/test_annotations.csv', root_dir='/kaggle/input/dance-videos/videos', transform=transform)\n",
    "val_dataset = VideoDataset(csv_file='/kaggle/input/dance-videos/val_annotations.csv', root_dir='/kaggle/input/dance-videos/videos', transform=transform)\n",
    "\n",
    "train_loader = DataLoader(train_dataset, batch_size=12, shuffle=True)\n",
    "test_loader = DataLoader(test_dataset, batch_size=12, shuffle=True)\n",
    "val_loader = DataLoader(val_dataset, batch_size=12, shuffle=False)\n"
   ]
  },
  {
   "cell_type": "code",
   "execution_count": 6,
   "id": "22f25dd5",
   "metadata": {
    "ExecuteTime": {
     "end_time": "2024-04-28T10:25:08.839955Z",
     "start_time": "2024-04-28T10:24:23.932435Z"
    },
    "collapsed": false,
    "execution": {
     "iopub.execute_input": "2024-04-30T13:42:27.070341Z",
     "iopub.status.busy": "2024-04-30T13:42:27.070065Z",
     "iopub.status.idle": "2024-04-30T13:42:28.396789Z",
     "shell.execute_reply": "2024-04-30T13:42:28.396013Z"
    },
    "papermill": {
     "duration": 1.334699,
     "end_time": "2024-04-30T13:42:28.398978",
     "exception": false,
     "start_time": "2024-04-30T13:42:27.064279",
     "status": "completed"
    },
    "tags": []
   },
   "outputs": [
    {
     "name": "stderr",
     "output_type": "stream",
     "text": [
      "/opt/conda/lib/python3.10/site-packages/torchvision/models/_utils.py:208: UserWarning: The parameter 'pretrained' is deprecated since 0.13 and may be removed in the future, please use 'weights' instead.\n",
      "  warnings.warn(\n",
      "/opt/conda/lib/python3.10/site-packages/torchvision/models/_utils.py:223: UserWarning: Arguments other than a weight enum or `None` for 'weights' are deprecated since 0.13 and may be removed in the future. The current behavior is equivalent to passing `weights=ResNet50_Weights.IMAGENET1K_V1`. You can also use `weights=ResNet50_Weights.DEFAULT` to get the most up-to-date weights.\n",
      "  warnings.warn(msg)\n",
      "Downloading: \"https://download.pytorch.org/models/resnet50-0676ba61.pth\" to /root/.cache/torch/hub/checkpoints/resnet50-0676ba61.pth\n",
      "100%|██████████| 97.8M/97.8M [00:00<00:00, 167MB/s]\n"
     ]
    }
   ],
   "source": [
    "num_classes = 15\n",
    "\n",
    "# Load the pretrained ResNet model\n",
    "model = models.resnet50(pretrained=True)\n",
    "\n",
    "# Freeze model parameters\n",
    "for param in model.parameters():\n",
    "    param.requires_grad = False\n",
    "\n",
    "# Replace the last fully connected layer for fine-tuning\n",
    "num_ftrs = model.fc.in_features\n",
    "model.fc = torch.nn.Linear(num_ftrs, num_classes)\n",
    "\n",
    "# Define the loss function\n",
    "criterion = torch.nn.CrossEntropyLoss()\n",
    "\n",
    "# Define the optimizer\n",
    "optimizer = torch.optim.SGD(model.fc.parameters(), lr=0.001, momentum=0.9)"
   ]
  },
  {
   "cell_type": "code",
   "execution_count": 7,
   "id": "ee58087f",
   "metadata": {
    "ExecuteTime": {
     "end_time": "2024-04-28T10:25:08.889868Z",
     "start_time": "2024-04-28T10:25:08.857429Z"
    },
    "execution": {
     "iopub.execute_input": "2024-04-30T13:42:28.412079Z",
     "iopub.status.busy": "2024-04-30T13:42:28.411785Z",
     "iopub.status.idle": "2024-04-30T13:42:28.652350Z",
     "shell.execute_reply": "2024-04-30T13:42:28.651360Z"
    },
    "id": "iJzqawdPHVMA",
    "papermill": {
     "duration": 0.249766,
     "end_time": "2024-04-30T13:42:28.654848",
     "exception": false,
     "start_time": "2024-04-30T13:42:28.405082",
     "status": "completed"
    },
    "tags": []
   },
   "outputs": [],
   "source": [
    "device = torch.device(\"cuda\" if torch.cuda.is_available() else \"cpu\")\n",
    "model = model.to(device)\n",
    "\n",
    "num_epochs = 5\n",
    "each_n_frame = 10"
   ]
  },
  {
   "cell_type": "markdown",
   "id": "c0162870",
   "metadata": {
    "papermill": {
     "duration": 0.005686,
     "end_time": "2024-04-30T13:42:28.666642",
     "exception": false,
     "start_time": "2024-04-30T13:42:28.660956",
     "status": "completed"
    },
    "tags": []
   },
   "source": [
    "## Train"
   ]
  },
  {
   "cell_type": "code",
   "execution_count": 8,
   "id": "206c0a65",
   "metadata": {
    "ExecuteTime": {
     "end_time": "2024-04-28T10:25:26.879281Z",
     "start_time": "2024-04-28T10:25:26.421418Z"
    },
    "execution": {
     "iopub.execute_input": "2024-04-30T13:42:28.679541Z",
     "iopub.status.busy": "2024-04-30T13:42:28.679244Z",
     "iopub.status.idle": "2024-04-30T19:13:45.715744Z",
     "shell.execute_reply": "2024-04-30T19:13:45.714688Z"
    },
    "id": "lDurZx1vHVFR",
    "papermill": {
     "duration": 19877.04671,
     "end_time": "2024-04-30T19:13:45.719171",
     "exception": false,
     "start_time": "2024-04-30T13:42:28.672461",
     "status": "completed"
    },
    "tags": []
   },
   "outputs": [
    {
     "name": "stderr",
     "output_type": "stream",
     "text": [
      "  1%|          | 1/109 [00:30<54:33, 30.31s/it][h264 @ 0x5becbb6adb80] mmco: unref short failure\n",
      "[h264 @ 0x5becbb6adb80] mmco: unref short failure\n",
      " 17%|█▋        | 19/109 [09:53<47:42, 31.81s/it][h264 @ 0x5becb9551500] mmco: unref short failure\n",
      "[h264 @ 0x5becb9551500] mmco: unref short failure\n",
      " 78%|███████▊  | 85/109 [43:49<12:49, 32.04s/it][h264 @ 0x5becb95f0040] mmco: unref short failure\n",
      "100%|██████████| 109/109 [55:54<00:00, 30.78s/it]\n"
     ]
    },
    {
     "name": "stdout",
     "output_type": "stream",
     "text": [
      "Epoch [1/5], Loss: 2.7842, Accuracy: 7.28%\n"
     ]
    },
    {
     "name": "stderr",
     "output_type": "stream",
     "text": [
      "  8%|▊         | 2/24 [00:49<08:58, 24.48s/it][h264 @ 0x5becc0f6b8c0] mmco: unref short failure\n",
      "100%|██████████| 24/24 [09:49<00:00, 24.54s/it]\n"
     ]
    },
    {
     "name": "stdout",
     "output_type": "stream",
     "text": [
      "Epoch [1/5], Validation Loss: 0.0000, Accuracy: 5.73%\n"
     ]
    },
    {
     "name": "stderr",
     "output_type": "stream",
     "text": [
      " 15%|█▍        | 16/109 [08:09<46:08, 29.76s/it][h264 @ 0x5becb8d48000] mmco: unref short failure\n",
      "[h264 @ 0x5becb8d48000] mmco: unref short failure\n",
      " 41%|████▏     | 45/109 [23:30<35:34, 33.35s/it][h264 @ 0x5becb8ae9840] mmco: unref short failure\n",
      "[h264 @ 0x5becb8ae9840] mmco: unref short failure\n",
      " 50%|█████     | 55/109 [28:49<28:48, 32.01s/it][h264 @ 0x5becbf9ea100] mmco: unref short failure\n",
      "100%|██████████| 109/109 [57:06<00:00, 31.44s/it]\n"
     ]
    },
    {
     "name": "stdout",
     "output_type": "stream",
     "text": [
      "Epoch [2/5], Loss: 2.7881, Accuracy: 7.13%\n"
     ]
    },
    {
     "name": "stderr",
     "output_type": "stream",
     "text": [
      "  8%|▊         | 2/24 [00:49<09:05, 24.79s/it][h264 @ 0x5becbfc822c0] mmco: unref short failure\n",
      "100%|██████████| 24/24 [09:45<00:00, 24.40s/it]\n"
     ]
    },
    {
     "name": "stdout",
     "output_type": "stream",
     "text": [
      "Epoch [2/5], Validation Loss: 0.0000, Accuracy: 3.58%\n"
     ]
    },
    {
     "name": "stderr",
     "output_type": "stream",
     "text": [
      "  7%|▋         | 8/109 [04:08<51:19, 30.49s/it][h264 @ 0x5becbae042c0] mmco: unref short failure\n",
      "[h264 @ 0x5becbae042c0] mmco: unref short failure\n",
      " 31%|███       | 34/109 [17:37<36:55, 29.54s/it][h264 @ 0x5becba59c980] mmco: unref short failure\n",
      "[h264 @ 0x5becba59c980] mmco: unref short failure\n",
      " 91%|█████████ | 99/109 [50:57<05:21, 32.15s/it][h264 @ 0x5becbca39d40] mmco: unref short failure\n",
      "100%|██████████| 109/109 [56:09<00:00, 30.92s/it]\n"
     ]
    },
    {
     "name": "stdout",
     "output_type": "stream",
     "text": [
      "Epoch [3/5], Loss: 2.7894, Accuracy: 8.35%\n"
     ]
    },
    {
     "name": "stderr",
     "output_type": "stream",
     "text": [
      "  8%|▊         | 2/24 [00:50<09:15, 25.23s/it][h264 @ 0x5becbfc822c0] mmco: unref short failure\n",
      "100%|██████████| 24/24 [09:59<00:00, 24.99s/it]\n"
     ]
    },
    {
     "name": "stdout",
     "output_type": "stream",
     "text": [
      "Epoch [3/5], Validation Loss: 0.0000, Accuracy: 5.73%\n"
     ]
    },
    {
     "name": "stderr",
     "output_type": "stream",
     "text": [
      " 28%|██▊       | 30/109 [15:50<41:16, 31.34s/it][h264 @ 0x5becb9327bc0] mmco: unref short failure\n",
      " 71%|███████   | 77/109 [40:12<15:21, 28.81s/it][h264 @ 0x5becb865a340] mmco: unref short failure\n",
      "[h264 @ 0x5becb865a340] mmco: unref short failure\n",
      " 84%|████████▍ | 92/109 [48:04<08:53, 31.36s/it][h264 @ 0x5becb9461b00] mmco: unref short failure\n",
      "[h264 @ 0x5becb9461b00] mmco: unref short failure\n",
      "100%|██████████| 109/109 [56:38<00:00, 31.17s/it]\n"
     ]
    },
    {
     "name": "stdout",
     "output_type": "stream",
     "text": [
      "Epoch [4/5], Loss: 2.8005, Accuracy: 6.67%\n"
     ]
    },
    {
     "name": "stderr",
     "output_type": "stream",
     "text": [
      "  8%|▊         | 2/24 [00:49<08:59, 24.50s/it][h264 @ 0x5becc1306500] mmco: unref short failure\n",
      "100%|██████████| 24/24 [09:50<00:00, 24.60s/it]\n"
     ]
    },
    {
     "name": "stdout",
     "output_type": "stream",
     "text": [
      "Epoch [4/5], Validation Loss: 0.0000, Accuracy: 10.04%\n"
     ]
    },
    {
     "name": "stderr",
     "output_type": "stream",
     "text": [
      " 13%|█▎        | 14/109 [07:20<49:18, 31.14s/it][h264 @ 0x5becb86cc180] mmco: unref short failure\n",
      "[h264 @ 0x5becb86cc180] mmco: unref short failure\n",
      " 36%|███▌      | 39/109 [20:30<36:49, 31.56s/it][h264 @ 0x5becbd028000] mmco: unref short failure\n",
      " 56%|█████▌    | 61/109 [31:51<24:30, 30.63s/it][h264 @ 0x5becb931ecc0] mmco: unref short failure\n",
      "[h264 @ 0x5becb931ecc0] mmco: unref short failure\n",
      "100%|██████████| 109/109 [56:22<00:00, 31.03s/it]\n"
     ]
    },
    {
     "name": "stdout",
     "output_type": "stream",
     "text": [
      "Epoch [5/5], Loss: 2.7899, Accuracy: 5.98%\n"
     ]
    },
    {
     "name": "stderr",
     "output_type": "stream",
     "text": [
      "  8%|▊         | 2/24 [00:48<08:54, 24.30s/it][h264 @ 0x5becb12bc0c0] mmco: unref short failure\n",
      "100%|██████████| 24/24 [09:40<00:00, 24.17s/it]"
     ]
    },
    {
     "name": "stdout",
     "output_type": "stream",
     "text": [
      "Epoch [5/5], Validation Loss: 0.0000, Accuracy: 4.66%\n"
     ]
    },
    {
     "name": "stderr",
     "output_type": "stream",
     "text": [
      "\n"
     ]
    }
   ],
   "source": [
    "accuracy_train = []\n",
    "accuracy_val = []\n",
    "losses_train = []\n",
    "losses_val = []\n",
    "for epoch in range(num_epochs):\n",
    "    model.train()\n",
    "    running_loss = 0.0\n",
    "    correct = 0\n",
    "    total = 0\n",
    "    for video_paths, labels in tqdm(train_loader):\n",
    "        outputs = torch.tensor(()).to(device)\n",
    "        for video_path in video_paths:\n",
    "            cap = cv2.VideoCapture(video_path)\n",
    "            # cap.set(cv2.CAP_PROP_POS_FRAMES, each_n_frame)\n",
    "            video_output = []\n",
    "            i = 0\n",
    "            while True:\n",
    "                ret, frame = cap.read()\n",
    "                if i % each_n_frame:\n",
    "                    if not ret:\n",
    "                        break\n",
    "                    frame = transform(frame)\n",
    "                    frame = frame.to(device)\n",
    "                    frame = frame.unsqueeze(0) # or batch of frames\n",
    "                    video_output.append(model(frame))\n",
    "                i += 1\n",
    "            cap.release()\n",
    "            output = torch.mean(torch.stack(video_output), dim=0)\n",
    "            outputs = torch.cat((outputs, output), dim=0)\n",
    "\n",
    "        labels = labels.to(device)\n",
    "        loss = criterion(outputs, labels)\n",
    "\n",
    "        optimizer.zero_grad()\n",
    "        loss.backward()\n",
    "        optimizer.step()\n",
    "\n",
    "        running_loss += loss.item()\n",
    "        _, predicted = torch.max(outputs.data, 1)\n",
    "        total += labels.size(0)\n",
    "        correct += (predicted == labels).sum().item()\n",
    "\n",
    "    loss_train = running_loss / len(train_loader)\n",
    "    losses_train.append(loss_train)\n",
    "    accuracy = 100 * correct / total\n",
    "    accuracy_train.append(accuracy)\n",
    "    print(f'Epoch [{epoch+1}/{num_epochs}], Loss: {loss_train:.4f}, Accuracy: {accuracy:.2f}%')\n",
    "\n",
    "\n",
    "    model.eval()\n",
    "    val_running_loss = 0.0\n",
    "    correct = 0\n",
    "    total = 0\n",
    "    with torch.no_grad():\n",
    "        for video_paths, labels in tqdm(val_loader):\n",
    "            outputs = torch.tensor(()).to(device)\n",
    "            for video_path in video_paths:\n",
    "                cap = cv2.VideoCapture(video_path)\n",
    "                # cap.set(cv2.CAP_PROP_POS_FRAMES, each_n_frame)\n",
    "                video_output = []\n",
    "                i = 0\n",
    "                while True:\n",
    "                    ret, frame = cap.read()\n",
    "                    if i % each_n_frame:\n",
    "                        if not ret:\n",
    "                            break\n",
    "                        frame = transform(frame)\n",
    "                        frame = frame.to(device)\n",
    "                        frame = frame.unsqueeze(0) # or batch of frames\n",
    "                        video_output.append(model(frame))\n",
    "                    i += 1\n",
    "                cap.release()\n",
    "                output = torch.mean(torch.stack(video_output), dim=0)\n",
    "                outputs = torch.cat((outputs, output), dim=0)\n",
    "\n",
    "            labels = labels.to(device)\n",
    "            loss = criterion(outputs, labels)\n",
    "\n",
    "            running_loss += loss.item()\n",
    "            _, predicted = torch.max(outputs.data, 1)\n",
    "            total += labels.size(0)\n",
    "            correct += (predicted == labels).sum().item()\n",
    "\n",
    "    loss_val = val_running_loss / len(val_loader)\n",
    "    losses_val.append(loss_val)\n",
    "    accuracy = 100 * correct / total\n",
    "    accuracy_val.append(accuracy)\n",
    "    print(f'Epoch [{epoch+1}/{num_epochs}], Validation Loss: {loss_val:.4f}, Accuracy: {accuracy:.2f}%')"
   ]
  },
  {
   "cell_type": "markdown",
   "id": "5c4796e3",
   "metadata": {
    "papermill": {
     "duration": 0.060597,
     "end_time": "2024-04-30T19:13:45.840767",
     "exception": false,
     "start_time": "2024-04-30T19:13:45.780170",
     "status": "completed"
    },
    "tags": []
   },
   "source": [
    "## Plots"
   ]
  },
  {
   "cell_type": "code",
   "execution_count": 9,
   "id": "4a45afe1",
   "metadata": {
    "execution": {
     "iopub.execute_input": "2024-04-30T19:13:45.964214Z",
     "iopub.status.busy": "2024-04-30T19:13:45.963855Z",
     "iopub.status.idle": "2024-04-30T19:13:45.967890Z",
     "shell.execute_reply": "2024-04-30T19:13:45.967069Z"
    },
    "id": "pE4ftAWmHU_V",
    "papermill": {
     "duration": 0.068358,
     "end_time": "2024-04-30T19:13:45.969736",
     "exception": false,
     "start_time": "2024-04-30T19:13:45.901378",
     "status": "completed"
    },
    "tags": []
   },
   "outputs": [],
   "source": [
    "import matplotlib.pyplot as plt"
   ]
  },
  {
   "cell_type": "code",
   "execution_count": 10,
   "id": "80cacc7b",
   "metadata": {
    "execution": {
     "iopub.execute_input": "2024-04-30T19:13:46.091911Z",
     "iopub.status.busy": "2024-04-30T19:13:46.091614Z",
     "iopub.status.idle": "2024-04-30T19:13:46.377594Z",
     "shell.execute_reply": "2024-04-30T19:13:46.376676Z"
    },
    "executionInfo": {
     "elapsed": 289,
     "status": "ok",
     "timestamp": 1713363799161,
     "user": {
      "displayName": "Георгий Бех",
      "userId": "18035495133147418666"
     },
     "user_tz": -180
    },
    "id": "vX0ZKcF5HU3f",
    "outputId": "4accd274-c272-437e-a42d-db830afbdfc0",
    "papermill": {
     "duration": 0.349022,
     "end_time": "2024-04-30T19:13:46.379660",
     "exception": false,
     "start_time": "2024-04-30T19:13:46.030638",
     "status": "completed"
    },
    "tags": []
   },
   "outputs": [
    {
     "data": {
      "image/png": "[encoded data removed]",
      "text/plain": [
       "<Figure size 640x480 with 1 Axes>"
      ]
     },
     "metadata": {},
     "output_type": "display_data"
    }
   ],
   "source": [
    "plt.plot(accuracy_train, label = 'train accuracy')\n",
    "plt.plot(accuracy_val, label = 'val accuracy')\n",
    "plt.legend()\n",
    "plt.ylabel('accuracy')\n",
    "plt.xlabel('epochs')\n",
    "plt.show()"
   ]
  },
  {
   "cell_type": "code",
   "execution_count": 11,
   "id": "5c3be1d4",
   "metadata": {
    "execution": {
     "iopub.execute_input": "2024-04-30T19:13:46.505759Z",
     "iopub.status.busy": "2024-04-30T19:13:46.505150Z",
     "iopub.status.idle": "2024-04-30T19:13:46.757677Z",
     "shell.execute_reply": "2024-04-30T19:13:46.756801Z"
    },
    "executionInfo": {
     "elapsed": 258,
     "status": "ok",
     "timestamp": 1713363799417,
     "user": {
      "displayName": "Георгий Бех",
      "userId": "18035495133147418666"
     },
     "user_tz": -180
    },
    "id": "IOP1Rtsg3WRi",
    "outputId": "2920fa13-1f90-4c5d-d132-8b0c9cd2a97c",
    "papermill": {
     "duration": 0.317984,
     "end_time": "2024-04-30T19:13:46.759580",
     "exception": false,
     "start_time": "2024-04-30T19:13:46.441596",
     "status": "completed"
    },
    "tags": []
   },
   "outputs": [
    {
     "data": {
      "image/png": "[encoded data removed]",
      "text/plain": [
       "<Figure size 640x480 with 1 Axes>"
      ]
     },
     "metadata": {},
     "output_type": "display_data"
    }
   ],
   "source": [
    "plt.plot(losses_train, label = 'train loss')\n",
    "plt.plot(losses_val, label = 'val loss')\n",
    "plt.legend()\n",
    "plt.ylabel('loss')\n",
    "plt.xlabel('epochs')\n",
    "plt.show()"
   ]
  }
 ],
 "metadata": {
  "accelerator": "GPU",
  "colab": {
   "authorship_tag": "ABX9TyPJp5wYqRDRfJ5BdSO94T1n",
   "gpuType": "T4",
   "machine_shape": "hm",
   "provenance": []
  },
  "kaggle": {
   "accelerator": "gpu",
   "dataSources": [
    {
     "datasetId": 4896660,
     "sourceId": 8252276,
     "sourceType": "datasetVersion"
    }
   ],
   "dockerImageVersionId": 30699,
   "isGpuEnabled": true,
   "isInternetEnabled": true,
   "language": "python",
   "sourceType": "notebook"
  },
  "kernelspec": {
   "display_name": "Python 3",
   "language": "python",
   "name": "python3"
  },
  "language_info": {
   "codemirror_mode": {
    "name": "ipython",
    "version": 3
   },
   "file_extension": ".py",
   "mimetype": "text/x-python",
   "name": "python",
   "nbconvert_exporter": "python",
   "pygments_lexer": "ipython3",
   "version": "3.10.13"
  },
  "papermill": {
   "default_parameters": {},
   "duration": 19891.493253,
   "end_time": "2024-04-30T19:13:48.507738",
   "environment_variables": {},
   "exception": null,
   "input_path": "__notebook__.ipynb",
   "output_path": "__notebook__.ipynb",
   "parameters": {},
   "start_time": "2024-04-30T13:42:17.014485",
   "version": "2.5.0"
  }
 },
 "nbformat": 4,
 "nbformat_minor": 5
}
